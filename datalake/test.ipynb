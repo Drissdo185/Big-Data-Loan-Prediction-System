{
 "cells": [
  {
   "cell_type": "code",
   "execution_count": 1,
   "metadata": {},
   "outputs": [],
   "source": [
    "import pandas as pd"
   ]
  },
  {
   "cell_type": "code",
   "execution_count": 6,
   "metadata": {},
   "outputs": [],
   "source": [
    "df_1 = pd.read_parquet(\"../data/green_tripdata_2024-05.parquet\")\n",
    "df_2 = pd.read_parquet(\"../data/yellow_tripdata_2024-05.parquet\")"
   ]
  },
  {
   "cell_type": "code",
   "execution_count": 7,
   "metadata": {},
   "outputs": [
    {
     "data": {
      "text/plain": [
       "(61003, 3723833)"
      ]
     },
     "execution_count": 7,
     "metadata": {},
     "output_type": "execute_result"
    }
   ],
   "source": [
    "len(df_1), len(df_2)"
   ]
  },
  {
   "cell_type": "code",
   "execution_count": 8,
   "metadata": {},
   "outputs": [
    {
     "data": {
      "text/plain": [
       "3784836"
      ]
     },
     "execution_count": 8,
     "metadata": {},
     "output_type": "execute_result"
    }
   ],
   "source": [
    "61003 + 3723833"
   ]
  },
  {
   "cell_type": "code",
   "execution_count": 16,
   "metadata": {},
   "outputs": [
    {
     "data": {
      "text/plain": [
       "Index(['VendorID', 'lpep_pickup_datetime', 'lpep_dropoff_datetime',\n",
       "       'store_and_fwd_flag', 'RatecodeID', 'PULocationID', 'DOLocationID',\n",
       "       'passenger_count', 'trip_distance', 'fare_amount', 'extra', 'mta_tax',\n",
       "       'tip_amount', 'tolls_amount', 'ehail_fee', 'improvement_surcharge',\n",
       "       'total_amount', 'payment_type', 'trip_type', 'congestion_surcharge'],\n",
       "      dtype='object')"
      ]
     },
     "execution_count": 16,
     "metadata": {},
     "output_type": "execute_result"
    }
   ],
   "source": [
    "df_1.columns"
   ]
  },
  {
   "cell_type": "code",
   "execution_count": null,
   "metadata": {},
   "outputs": [],
   "source": []
  },
  {
   "cell_type": "code",
   "execution_count": 15,
   "metadata": {},
   "outputs": [
    {
     "data": {
      "text/plain": [
       "Index(['VendorID', 'tpep_pickup_datetime', 'tpep_dropoff_datetime',\n",
       "       'passenger_count', 'trip_distance', 'RatecodeID', 'store_and_fwd_flag',\n",
       "       'PULocationID', 'DOLocationID', 'payment_type', 'fare_amount', 'extra',\n",
       "       'mta_tax', 'tip_amount', 'tolls_amount', 'improvement_surcharge',\n",
       "       'total_amount', 'congestion_surcharge', 'Airport_fee'],\n",
       "      dtype='object')"
      ]
     },
     "execution_count": 15,
     "metadata": {},
     "output_type": "execute_result"
    }
   ],
   "source": [
    "df_2.columns"
   ]
  },
  {
   "cell_type": "code",
   "execution_count": 9,
   "metadata": {},
   "outputs": [
    {
     "name": "stdout",
     "output_type": "stream",
     "text": [
      "   VendorID lpep_pickup_datetime lpep_dropoff_datetime store_and_fwd_flag  \\\n",
      "0         2  2024-05-01 00:07:08   2024-05-01 00:15:03                  N   \n",
      "1         2  2024-05-01 00:30:48   2024-05-01 00:35:49                  N   \n",
      "2         2  2024-05-01 00:34:13   2024-05-01 00:38:07                  N   \n",
      "3         2  2024-05-01 00:58:01   2024-05-01 01:14:41                  N   \n",
      "4         2  2024-05-01 00:11:45   2024-05-01 00:20:38                  N   \n",
      "\n",
      "   RatecodeID  PULocationID  DOLocationID  passenger_count  trip_distance  \\\n",
      "0         1.0            65            49              1.0           1.24   \n",
      "1         1.0             7           179              1.0           0.94   \n",
      "2         1.0            74            42              1.0           0.84   \n",
      "3         1.0            75           235              1.0           6.07   \n",
      "4         1.0           256            49              2.0           2.06   \n",
      "\n",
      "   fare_amount  extra  mta_tax  tip_amount  tolls_amount  ehail_fee  \\\n",
      "0          9.3    1.0      0.5        2.00           0.0        NaN   \n",
      "1          7.2    1.0      0.5        1.94           0.0        NaN   \n",
      "2          6.5    1.0      0.5        0.00           0.0        NaN   \n",
      "3         25.4    1.0      0.5        5.00           0.0        NaN   \n",
      "4         12.1    1.0      0.5        2.92           0.0        NaN   \n",
      "\n",
      "   improvement_surcharge  total_amount  payment_type  trip_type  \\\n",
      "0                    1.0         13.80           1.0        1.0   \n",
      "1                    1.0         11.64           1.0        1.0   \n",
      "2                    1.0          9.00           2.0        1.0   \n",
      "3                    1.0         32.90           1.0        1.0   \n",
      "4                    1.0         17.52           1.0        1.0   \n",
      "\n",
      "   congestion_surcharge  \n",
      "0                   0.0  \n",
      "1                   0.0  \n",
      "2                   0.0  \n",
      "3                   0.0  \n",
      "4                   0.0  \n"
     ]
    }
   ],
   "source": [
    "print(df_1.head())"
   ]
  },
  {
   "cell_type": "code",
   "execution_count": 11,
   "metadata": {},
   "outputs": [
    {
     "name": "stdout",
     "output_type": "stream",
     "text": [
      "   VendorID tpep_pickup_datetime tpep_dropoff_datetime  passenger_count  \\\n",
      "0         1  2024-05-01 00:59:15   2024-05-01 01:23:50              1.0   \n",
      "1         2  2024-04-30 23:58:26   2024-05-01 00:29:42              1.0   \n",
      "2         2  2024-05-01 00:57:17   2024-05-01 01:14:15              1.0   \n",
      "3         2  2024-05-01 00:24:47   2024-05-01 00:48:51              1.0   \n",
      "4         2  2024-05-01 00:11:20   2024-05-01 00:52:10              1.0   \n",
      "\n",
      "   trip_distance  RatecodeID store_and_fwd_flag  PULocationID  DOLocationID  \\\n",
      "0           6.10         1.0                  N           138           145   \n",
      "1          11.23         1.0                  N           138           249   \n",
      "2           9.02         1.0                  N           138           170   \n",
      "3           6.53         1.0                  N            87           133   \n",
      "4          14.38         1.0                  N           161           165   \n",
      "\n",
      "   payment_type  fare_amount  extra  mta_tax  tip_amount  tolls_amount  \\\n",
      "0             1         28.2   7.75      0.5        5.00          0.00   \n",
      "1             1         46.4   6.00      0.5        8.72          0.00   \n",
      "2             1         35.9   6.00      0.5       10.57          6.94   \n",
      "3             1         30.3   1.00      0.5        7.06          0.00   \n",
      "4             1         61.8   1.00      0.5        0.00          0.00   \n",
      "\n",
      "   improvement_surcharge  total_amount  congestion_surcharge  Airport_fee  \n",
      "0                    1.0         42.45                   0.0         1.75  \n",
      "1                    1.0         66.87                   2.5         1.75  \n",
      "2                    1.0         65.16                   2.5         1.75  \n",
      "3                    1.0         42.36                   2.5         0.00  \n",
      "4                    1.0         66.80                   2.5         0.00  \n"
     ]
    }
   ],
   "source": [
    "print(df_2.head())"
   ]
  },
  {
   "cell_type": "code",
   "execution_count": null,
   "metadata": {},
   "outputs": [],
   "source": []
  }
 ],
 "metadata": {
  "kernelspec": {
   "display_name": "bigdata",
   "language": "python",
   "name": "python3"
  },
  "language_info": {
   "codemirror_mode": {
    "name": "ipython",
    "version": 3
   },
   "file_extension": ".py",
   "mimetype": "text/x-python",
   "name": "python",
   "nbconvert_exporter": "python",
   "pygments_lexer": "ipython3",
   "version": "3.10.16"
  }
 },
 "nbformat": 4,
 "nbformat_minor": 2
}
