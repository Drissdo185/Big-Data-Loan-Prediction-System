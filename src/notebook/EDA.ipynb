{
 "cells": [
  {
   "cell_type": "code",
   "execution_count": 1,
   "metadata": {},
   "outputs": [],
   "source": [
    "from pyspark.sql import SparkSession"
   ]
  },
  {
   "cell_type": "code",
   "execution_count": 2,
   "metadata": {},
   "outputs": [
    {
     "name": "stderr",
     "output_type": "stream",
     "text": [
      "25/04/04 21:00:47 WARN Utils: Your hostname, dtdat resolves to a loopback address: 127.0.1.1; using 192.168.2.12 instead (on interface wlp0s20f3)\n",
      "25/04/04 21:00:47 WARN Utils: Set SPARK_LOCAL_IP if you need to bind to another address\n",
      "25/04/04 21:00:47 WARN NativeCodeLoader: Unable to load native-hadoop library for your platform... using builtin-java classes where applicable\n",
      "Setting default log level to \"WARN\".\n",
      "To adjust logging level use sc.setLogLevel(newLevel). For SparkR, use setLogLevel(newLevel).\n"
     ]
    }
   ],
   "source": [
    "spark = SparkSession.builder \\\n",
    "    .appName(\"LoanDefaultPrediction\") \\\n",
    "    .config(\"spark.hadoop.fs.s3a.access.key\", \"minio_access_key\") \\\n",
    "    .config(\"spark.hadoop.fs.s3a.secret.key\", \"minio_secret_key\") \\\n",
    "    .config(\"spark.hadoop.fs.s3a.endpoint\", \"http://localhost:9000\")\\\n",
    "    .config(\"spark.jars\", \"/home/drissdo/Desktop/End-to-end-NYC-analysis/src/jar/aws-java-sdk-bundle-1.11.901.jar, /home/drissdo/Desktop/End-to-end-NYC-analysis/src/jar/hadoop-aws-3.3.1.jar\")\\\n",
    "    .config(\"spark.hadoop.fs.s3a.path.style.access\", \"true\")\\\n",
    "    .config(\"spark.hadoop.fs.s3a.impl\", \"org.apache.hadoop.fs.s3a.S3AFileSystem\")\\\n",
    "    .getOrCreate()"
   ]
  },
  {
   "cell_type": "code",
   "execution_count": 12,
   "metadata": {},
   "outputs": [],
   "source": [
    "df = spark.read.csv(\"s3a://silver/yellow_tripdata_2024-01.csv/part-00000-c4f95b77-b178-4b32-8a34-6b944da12476-c000.csv\")"
   ]
  },
  {
   "cell_type": "code",
   "execution_count": 13,
   "metadata": {},
   "outputs": [
    {
     "name": "stdout",
     "output_type": "stream",
     "text": [
      "+--------+--------------------+--------------------+---------------+-------------+----------+------------------+------------+------------+------------+-----------+-----+-------+----------+------------+--------------------+------------+--------------------+-----------+\n",
      "|     _c0|                 _c1|                 _c2|            _c3|          _c4|       _c5|               _c6|         _c7|         _c8|         _c9|       _c10| _c11|   _c12|      _c13|        _c14|                _c15|        _c16|                _c17|       _c18|\n",
      "+--------+--------------------+--------------------+---------------+-------------+----------+------------------+------------+------------+------------+-----------+-----+-------+----------+------------+--------------------+------------+--------------------+-----------+\n",
      "|VendorID|tpep_pickup_datetime|tpep_dropoff_date...|passenger_count|trip_distance|RatecodeID|store_and_fwd_flag|PULocationID|DOLocationID|payment_type|fare_amount|extra|mta_tax|tip_amount|tolls_amount|improvement_surch...|total_amount|congestion_surcharge|Airport_fee|\n",
      "|       2|2024-01-01T00:57:...|2024-01-01T01:17:...|              1|         1.72|         1|                 N|         186|          79|           2|       17.7|  1.0|    0.5|       0.0|         0.0|                 1.0|        22.7|                 2.5|        0.0|\n",
      "|       1|2024-01-01T00:03:...|2024-01-01T00:09:...|              1|          1.8|         1|                 N|         140|         236|           1|       10.0|  3.5|    0.5|      3.75|         0.0|                 1.0|       18.75|                 2.5|        0.0|\n",
      "|       1|2024-01-01T00:17:...|2024-01-01T00:35:...|              1|          4.7|         1|                 N|         236|          79|           1|       23.3|  3.5|    0.5|       3.0|         0.0|                 1.0|        31.3|                 2.5|        0.0|\n",
      "|       1|2024-01-01T00:36:...|2024-01-01T00:44:...|              1|          1.4|         1|                 N|          79|         211|           1|       10.0|  3.5|    0.5|       2.0|         0.0|                 1.0|        17.0|                 2.5|        0.0|\n",
      "|       1|2024-01-01T00:46:...|2024-01-01T00:52:...|              1|          0.8|         1|                 N|         211|         148|           1|        7.9|  3.5|    0.5|       3.2|         0.0|                 1.0|        16.1|                 2.5|        0.0|\n",
      "|       1|2024-01-01T00:54:...|2024-01-01T01:26:...|              1|          4.7|         1|                 N|         148|         141|           1|       29.6|  3.5|    0.5|       6.9|         0.0|                 1.0|        41.5|                 2.5|        0.0|\n",
      "|       2|2024-01-01T00:49:...|2024-01-01T01:15:...|              2|        10.82|         1|                 N|         138|         181|           1|       45.7|  6.0|    0.5|      10.0|         0.0|                 1.0|       64.95|                 0.0|       1.75|\n",
      "|       1|2024-01-01T00:30:...|2024-01-01T00:58:...|              0|          3.0|         1|                 N|         246|         231|           2|       25.4|  3.5|    0.5|       0.0|         0.0|                 1.0|        30.4|                 2.5|        0.0|\n",
      "|       2|2024-01-01T00:26:...|2024-01-01T00:54:...|              1|         5.44|         1|                 N|         161|         261|           2|       31.0|  1.0|    0.5|       0.0|         0.0|                 1.0|        36.0|                 2.5|        0.0|\n",
      "|       2|2024-01-01T00:28:...|2024-01-01T00:29:...|              1|         0.04|         1|                 N|         113|         113|           2|        3.0|  1.0|    0.5|       0.0|         0.0|                 1.0|         8.0|                 2.5|        0.0|\n",
      "|       2|2024-01-01T00:35:...|2024-01-01T00:41:...|              2|         0.75|         1|                 N|         107|         137|           1|        7.9|  1.0|    0.5|       0.0|         0.0|                 1.0|        12.9|                 2.5|        0.0|\n",
      "|       1|2024-01-01T00:25:...|2024-01-01T00:34:...|              2|          1.2|         1|                 N|         158|         246|           1|       14.9|  3.5|    0.5|      3.95|         0.0|                 1.0|       23.85|                 2.5|        0.0|\n",
      "|       1|2024-01-01T00:35:...|2024-01-01T01:11:...|              2|          8.2|         1|                 N|         246|         190|           1|       59.0|  3.5|    0.5|     14.15|        6.94|                 1.0|       85.09|                 2.5|        0.0|\n",
      "|       1|2024-01-01T00:43:...|2024-01-01T00:47:...|              2|          0.4|         1|                 N|          68|          90|           1|        5.8|  3.5|    0.5|      1.25|         0.0|                 1.0|       12.05|                 2.5|        0.0|\n",
      "|       1|2024-01-01T00:51:...|2024-01-01T00:55:...|              1|          0.8|         1|                 N|          90|          68|           2|        6.5|  3.5|    0.5|       0.0|         0.0|                 1.0|        11.5|                 2.5|        0.0|\n",
      "|       1|2024-01-01T00:50:...|2024-01-01T01:03:...|              1|          5.0|         1|                 N|         132|         216|           2|       21.2| 2.75|    0.5|       0.0|         0.0|                 1.0|       25.45|                 0.0|       1.75|\n",
      "|       1|2024-01-01T00:41:...|2024-01-01T00:53:...|              1|          1.5|         1|                 N|         164|          79|           1|       12.8|  3.5|    0.5|      4.45|         0.0|                 1.0|       22.25|                 2.5|        0.0|\n",
      "|       2|2024-01-01T00:52:...|2024-01-01T00:52:...|              1|          0.0|         1|                 N|         237|         237|           2|        3.0|  1.0|    0.5|       0.0|         0.0|                 1.0|         8.0|                 2.5|        0.0|\n",
      "|       2|2024-01-01T00:56:...|2024-01-01T01:03:...|              1|          1.5|         1|                 N|         141|         263|           1|        9.3|  1.0|    0.5|       3.0|         0.0|                 1.0|        17.3|                 2.5|        0.0|\n",
      "+--------+--------------------+--------------------+---------------+-------------+----------+------------------+------------+------------+------------+-----------+-----+-------+----------+------------+--------------------+------------+--------------------+-----------+\n",
      "only showing top 20 rows\n",
      "\n"
     ]
    }
   ],
   "source": [
    "df.show()"
   ]
  },
  {
   "cell_type": "code",
   "execution_count": null,
   "metadata": {},
   "outputs": [],
   "source": [
    "import pandas as pd"
   ]
  },
  {
   "cell_type": "code",
   "execution_count": null,
   "metadata": {},
   "outputs": [],
   "source": [
    "df.info()"
   ]
  },
  {
   "cell_type": "code",
   "execution_count": null,
   "metadata": {},
   "outputs": [],
   "source": [
    "df.isna().sum()"
   ]
  },
  {
   "cell_type": "code",
   "execution_count": null,
   "metadata": {},
   "outputs": [],
   "source": [
    "df"
   ]
  },
  {
   "cell_type": "code",
   "execution_count": null,
   "metadata": {},
   "outputs": [],
   "source": [
    "df = df.fillna({\n",
    "    \"passenger_count\": 1,              # assuming 1 passenger as a safe default\n",
    "    \"RatecodeID\": 1,                   # default is Standard rate\n",
    "    \"store_and_fwd_flag\": \"N\",         # default is No\n",
    "    \"congestion_surcharge\": 0.0,       # assume no congestion surcharge\n",
    "    \"Airport_fee\": 0.0                 # assume no airport fee\n",
    "})"
   ]
  },
  {
   "cell_type": "code",
   "execution_count": null,
   "metadata": {},
   "outputs": [],
   "source": [
    "df.isna().sum()"
   ]
  },
  {
   "cell_type": "code",
   "execution_count": null,
   "metadata": {},
   "outputs": [],
   "source": []
  }
 ],
 "metadata": {
  "kernelspec": {
   "display_name": "bigdata",
   "language": "python",
   "name": "python3"
  },
  "language_info": {
   "codemirror_mode": {
    "name": "ipython",
    "version": 3
   },
   "file_extension": ".py",
   "mimetype": "text/x-python",
   "name": "python",
   "nbconvert_exporter": "python",
   "pygments_lexer": "ipython3",
   "version": "3.10.16"
  }
 },
 "nbformat": 4,
 "nbformat_minor": 2
}
