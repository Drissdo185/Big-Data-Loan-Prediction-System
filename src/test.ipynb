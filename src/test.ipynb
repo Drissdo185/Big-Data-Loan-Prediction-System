{
 "cells": [
  {
   "cell_type": "code",
   "execution_count": 1,
   "metadata": {},
   "outputs": [],
   "source": [
    "import pandas as pd"
   ]
  },
  {
   "cell_type": "code",
   "execution_count": 7,
   "metadata": {},
   "outputs": [],
   "source": [
    "df = pd.read_parquet(\"../data/green_tripdata_2024-05.parquet\")"
   ]
  },
  {
   "cell_type": "code",
   "execution_count": 4,
   "metadata": {},
   "outputs": [
    {
     "name": "stdout",
     "output_type": "stream",
     "text": [
      "   VendorID lpep_pickup_datetime lpep_dropoff_datetime store_and_fwd_flag  \\\n",
      "0         2  2024-05-01 00:07:08   2024-05-01 00:15:03                  N   \n",
      "1         2  2024-05-01 00:30:48   2024-05-01 00:35:49                  N   \n",
      "2         2  2024-05-01 00:34:13   2024-05-01 00:38:07                  N   \n",
      "3         2  2024-05-01 00:58:01   2024-05-01 01:14:41                  N   \n",
      "4         2  2024-05-01 00:11:45   2024-05-01 00:20:38                  N   \n",
      "\n",
      "   RatecodeID  PULocationID  DOLocationID  passenger_count  trip_distance  \\\n",
      "0         1.0            65            49              1.0           1.24   \n",
      "1         1.0             7           179              1.0           0.94   \n",
      "2         1.0            74            42              1.0           0.84   \n",
      "3         1.0            75           235              1.0           6.07   \n",
      "4         1.0           256            49              2.0           2.06   \n",
      "\n",
      "   fare_amount  extra  mta_tax  tip_amount  tolls_amount  ehail_fee  \\\n",
      "0          9.3    1.0      0.5        2.00           0.0        NaN   \n",
      "1          7.2    1.0      0.5        1.94           0.0        NaN   \n",
      "2          6.5    1.0      0.5        0.00           0.0        NaN   \n",
      "3         25.4    1.0      0.5        5.00           0.0        NaN   \n",
      "4         12.1    1.0      0.5        2.92           0.0        NaN   \n",
      "\n",
      "   improvement_surcharge  total_amount  payment_type  trip_type  \\\n",
      "0                    1.0         13.80           1.0        1.0   \n",
      "1                    1.0         11.64           1.0        1.0   \n",
      "2                    1.0          9.00           2.0        1.0   \n",
      "3                    1.0         32.90           1.0        1.0   \n",
      "4                    1.0         17.52           1.0        1.0   \n",
      "\n",
      "   congestion_surcharge  \n",
      "0                   0.0  \n",
      "1                   0.0  \n",
      "2                   0.0  \n",
      "3                   0.0  \n",
      "4                   0.0  \n"
     ]
    }
   ],
   "source": [
    "print(df.head())"
   ]
  },
  {
   "cell_type": "code",
   "execution_count": null,
   "metadata": {},
   "outputs": [],
   "source": []
  }
 ],
 "metadata": {
  "kernelspec": {
   "display_name": "bigdata",
   "language": "python",
   "name": "python3"
  },
  "language_info": {
   "codemirror_mode": {
    "name": "ipython",
    "version": 3
   },
   "file_extension": ".py",
   "mimetype": "text/x-python",
   "name": "python",
   "nbconvert_exporter": "python",
   "pygments_lexer": "ipython3",
   "version": "3.10.16"
  }
 },
 "nbformat": 4,
 "nbformat_minor": 2
}
